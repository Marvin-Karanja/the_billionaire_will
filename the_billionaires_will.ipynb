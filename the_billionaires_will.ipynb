{
 "cells": [
  {
   "cell_type": "markdown",
   "id": "d97bb2af-1864-4115-a98f-b4b18499a357",
   "metadata": {},
   "source": [
    "# The Billionaire's Data-driven Will (Beginner Visualization Project)\n",
    "\n",
    "**Problem Statement**"
   ]
  },
  {
   "cell_type": "markdown",
   "id": "5db38483-ea99-4907-8897-6850090111fa",
   "metadata": {},
   "source": [
    "A multi-billionaire with a global business empire wants to pass on his legacy to the most deserving people. As he prepares his will, he refuses to rely on family politics or gut and chooses to be guided by evidence. For years he has tracked detailed data on his nuclear and extended family as well as his most loyal long-serving employees—capturing factors such as financial responsibility, past contributions, loyalty, and leadership potential.\n",
    "\n",
    "The challenge is to analyze this information and build a transparent, defensible framework for distributing his wealth and appointing key stewards of his assets. The analysis must highlight patterns, rank potential heirs and managers, and provide clear visual evidence that supports each recommendation. The goal is to move from an emotional, subjective process to a quantitative decision, ensuring his fortune is managed responsibly and his legacy preserved worldwide."
   ]
  },
  {
   "cell_type": "markdown",
   "id": "109944a5-7b86-42a5-bfd3-8b46291a3f56",
   "metadata": {},
   "source": [
    "**Datasets and Data Dictionary**"
   ]
  },
  {
   "cell_type": "markdown",
   "id": "2adec451-d9c7-4b2e-926b-195d0abdb563",
   "metadata": {},
   "source": [
    "\n",
    "### `people.csv` — Observations about potential heirs and trusted employees\n",
    "| Column | Meaning |\n",
    "|---|---|\n",
    "| **person_id** | Unique identifier for each person. |\n",
    "| **name** | First and last name. |\n",
    "| **group** | Relationship to the billionaire: `nuclear_family`, `extended_family`, or `employee`. |\n",
    "| **age** | Age in years. |\n",
    "| **country** | Country of residence. |\n",
    "| **financial_responsibility** | Score (0–100) for how reliably they handle money. |\n",
    "| **loyalty_score** | Score (0–100) for dedication and trustworthiness. |\n",
    "| **leadership_potential** | Score (0–100) estimating ability to run companies or major assets. |\n",
    "| **philanthropy_alignment** | Score (0–100) for how well their values match the billionaire’s giving goals. |\n",
    "| **legal_flags** | 0 = clean record, 1 = some legal issue present. |\n",
    "\n",
    "### `assets_updated.csv` — The billionaire’s portfolio of major assets\n",
    "| Column | Meaning |\n",
    "|---|---|\n",
    "| **asset_id** | Unique identifier for each asset. |\n",
    "| **asset_name** | Descriptive name of the asset. |\n",
    "| **asset_type** | Category of the asset: `cash`, `stocks`, `real_estate`, `business_unit`, or `art_collection`. |\n",
    "| **region** | Global region of the asset: `North America`, `Europe`, `Africa`, `Asia`, or `Latin America`. |\n",
    "| **current_value_million_usd** | Estimated value **in millions of US dollars**. |\n",
    "| **risk_level** | Overall investment risk: `Low`, `Medium`, or `High`. |\n",
    "| **liquidity** | How easily the asset can be converted to cash: `High`, `Medium`, or `Low`. |\n",
    "| **mgmt_expertise_required** | 1 if the asset needs active management; 0 if it can be passively held. |"
   ]
  },
  {
   "cell_type": "markdown",
   "id": "685435e6-0204-4311-8178-fdbe04202906",
   "metadata": {},
   "source": [
    "## Loading the necessary Libraries and the Dataset"
   ]
  },
  {
   "cell_type": "code",
   "execution_count": 2,
   "id": "b2d14d83-e5d7-4512-90df-0845209e4191",
   "metadata": {},
   "outputs": [],
   "source": [
    "import pandas as pd \n",
    "import numpy as np\n",
    "import matplotlib.pyplot as plt\n",
    "import seaborn as sns"
   ]
  },
  {
   "cell_type": "code",
   "execution_count": 4,
   "id": "a0f12f71-5cb8-4de7-8ce7-f7ceac1a1b05",
   "metadata": {},
   "outputs": [],
   "source": [
    "people_df = pd.read_csv('people.csv')\n",
    "asset_df = pd.read_csv('assets_updated.csv')"
   ]
  },
  {
   "cell_type": "code",
   "execution_count": 5,
   "id": "b3bcb849-2ffe-4775-aded-9bc40eac59a6",
   "metadata": {},
   "outputs": [
    {
     "name": "stdout",
     "output_type": "stream",
     "text": [
      "\n"
     ]
    },
    {
     "data": {
      "text/html": [
       "<div>\n",
       "<style scoped>\n",
       "    .dataframe tbody tr th:only-of-type {\n",
       "        vertical-align: middle;\n",
       "    }\n",
       "\n",
       "    .dataframe tbody tr th {\n",
       "        vertical-align: top;\n",
       "    }\n",
       "\n",
       "    .dataframe thead th {\n",
       "        text-align: right;\n",
       "    }\n",
       "</style>\n",
       "<table border=\"1\" class=\"dataframe\">\n",
       "  <thead>\n",
       "    <tr style=\"text-align: right;\">\n",
       "      <th></th>\n",
       "      <th>person_id</th>\n",
       "      <th>name</th>\n",
       "      <th>group</th>\n",
       "      <th>age</th>\n",
       "      <th>country</th>\n",
       "      <th>financial_responsibility</th>\n",
       "      <th>loyalty_score</th>\n",
       "      <th>leadership_potential</th>\n",
       "      <th>philanthropy_alignment</th>\n",
       "      <th>legal_flags</th>\n",
       "    </tr>\n",
       "  </thead>\n",
       "  <tbody>\n",
       "    <tr>\n",
       "      <th>0</th>\n",
       "      <td>1</td>\n",
       "      <td>Olivia Carter</td>\n",
       "      <td>employee</td>\n",
       "      <td>56</td>\n",
       "      <td>UK</td>\n",
       "      <td>91</td>\n",
       "      <td>68</td>\n",
       "      <td>44</td>\n",
       "      <td>90</td>\n",
       "      <td>0</td>\n",
       "    </tr>\n",
       "    <tr>\n",
       "      <th>1</th>\n",
       "      <td>2</td>\n",
       "      <td>Marcus Langley</td>\n",
       "      <td>nuclear_family</td>\n",
       "      <td>75</td>\n",
       "      <td>Brazil</td>\n",
       "      <td>58</td>\n",
       "      <td>62</td>\n",
       "      <td>53</td>\n",
       "      <td>32</td>\n",
       "      <td>0</td>\n",
       "    </tr>\n",
       "    <tr>\n",
       "      <th>2</th>\n",
       "      <td>3</td>\n",
       "      <td>Rebecca Ortiz</td>\n",
       "      <td>nuclear_family</td>\n",
       "      <td>19</td>\n",
       "      <td>India</td>\n",
       "      <td>63</td>\n",
       "      <td>83</td>\n",
       "      <td>59</td>\n",
       "      <td>67</td>\n",
       "      <td>0</td>\n",
       "    </tr>\n",
       "    <tr>\n",
       "      <th>3</th>\n",
       "      <td>4</td>\n",
       "      <td>Daniel Smith</td>\n",
       "      <td>nuclear_family</td>\n",
       "      <td>77</td>\n",
       "      <td>UK</td>\n",
       "      <td>60</td>\n",
       "      <td>72</td>\n",
       "      <td>87</td>\n",
       "      <td>51</td>\n",
       "      <td>0</td>\n",
       "    </tr>\n",
       "    <tr>\n",
       "      <th>4</th>\n",
       "      <td>5</td>\n",
       "      <td>Priya Patel</td>\n",
       "      <td>employee</td>\n",
       "      <td>42</td>\n",
       "      <td>South Africa</td>\n",
       "      <td>88</td>\n",
       "      <td>66</td>\n",
       "      <td>88</td>\n",
       "      <td>71</td>\n",
       "      <td>0</td>\n",
       "    </tr>\n",
       "  </tbody>\n",
       "</table>\n",
       "</div>"
      ],
      "text/plain": [
       "   person_id            name           group  age       country  \\\n",
       "0          1   Olivia Carter        employee   56            UK   \n",
       "1          2  Marcus Langley  nuclear_family   75        Brazil   \n",
       "2          3   Rebecca Ortiz  nuclear_family   19         India   \n",
       "3          4    Daniel Smith  nuclear_family   77            UK   \n",
       "4          5     Priya Patel        employee   42  South Africa   \n",
       "\n",
       "   financial_responsibility  loyalty_score  leadership_potential  \\\n",
       "0                        91             68                    44   \n",
       "1                        58             62                    53   \n",
       "2                        63             83                    59   \n",
       "3                        60             72                    87   \n",
       "4                        88             66                    88   \n",
       "\n",
       "   philanthropy_alignment  legal_flags  \n",
       "0                      90            0  \n",
       "1                      32            0  \n",
       "2                      67            0  \n",
       "3                      51            0  \n",
       "4                      71            0  "
      ]
     },
     "metadata": {},
     "output_type": "display_data"
    },
    {
     "name": "stdout",
     "output_type": "stream",
     "text": [
      "\n"
     ]
    },
    {
     "data": {
      "text/html": [
       "<div>\n",
       "<style scoped>\n",
       "    .dataframe tbody tr th:only-of-type {\n",
       "        vertical-align: middle;\n",
       "    }\n",
       "\n",
       "    .dataframe tbody tr th {\n",
       "        vertical-align: top;\n",
       "    }\n",
       "\n",
       "    .dataframe thead th {\n",
       "        text-align: right;\n",
       "    }\n",
       "</style>\n",
       "<table border=\"1\" class=\"dataframe\">\n",
       "  <thead>\n",
       "    <tr style=\"text-align: right;\">\n",
       "      <th></th>\n",
       "      <th>asset_id</th>\n",
       "      <th>asset_name</th>\n",
       "      <th>asset_type</th>\n",
       "      <th>region</th>\n",
       "      <th>current_value_million_usd</th>\n",
       "      <th>risk_level</th>\n",
       "      <th>liquidity</th>\n",
       "      <th>mgmt_expertise_required</th>\n",
       "    </tr>\n",
       "  </thead>\n",
       "  <tbody>\n",
       "    <tr>\n",
       "      <th>0</th>\n",
       "      <td>1</td>\n",
       "      <td>Global Tech Stocks</td>\n",
       "      <td>stocks</td>\n",
       "      <td>Asia</td>\n",
       "      <td>144.06</td>\n",
       "      <td>Medium</td>\n",
       "      <td>Medium</td>\n",
       "      <td>1</td>\n",
       "    </tr>\n",
       "    <tr>\n",
       "      <th>1</th>\n",
       "      <td>2</td>\n",
       "      <td>Paris Luxury Hotel</td>\n",
       "      <td>stocks</td>\n",
       "      <td>Europe</td>\n",
       "      <td>74.76</td>\n",
       "      <td>Medium</td>\n",
       "      <td>High</td>\n",
       "      <td>1</td>\n",
       "    </tr>\n",
       "    <tr>\n",
       "      <th>2</th>\n",
       "      <td>3</td>\n",
       "      <td>Kenyan Tea Plantation</td>\n",
       "      <td>cash</td>\n",
       "      <td>Asia</td>\n",
       "      <td>41.90</td>\n",
       "      <td>Low</td>\n",
       "      <td>Medium</td>\n",
       "      <td>1</td>\n",
       "    </tr>\n",
       "    <tr>\n",
       "      <th>3</th>\n",
       "      <td>4</td>\n",
       "      <td>Silicon Valley Startup Shares</td>\n",
       "      <td>real_estate</td>\n",
       "      <td>Latin America</td>\n",
       "      <td>387.26</td>\n",
       "      <td>Medium</td>\n",
       "      <td>High</td>\n",
       "      <td>0</td>\n",
       "    </tr>\n",
       "    <tr>\n",
       "      <th>4</th>\n",
       "      <td>5</td>\n",
       "      <td>Dubai Art Collection</td>\n",
       "      <td>business_unit</td>\n",
       "      <td>Latin America</td>\n",
       "      <td>7.73</td>\n",
       "      <td>Low</td>\n",
       "      <td>Medium</td>\n",
       "      <td>1</td>\n",
       "    </tr>\n",
       "  </tbody>\n",
       "</table>\n",
       "</div>"
      ],
      "text/plain": [
       "   asset_id                     asset_name     asset_type         region  \\\n",
       "0         1             Global Tech Stocks         stocks           Asia   \n",
       "1         2             Paris Luxury Hotel         stocks         Europe   \n",
       "2         3          Kenyan Tea Plantation           cash           Asia   \n",
       "3         4  Silicon Valley Startup Shares    real_estate  Latin America   \n",
       "4         5           Dubai Art Collection  business_unit  Latin America   \n",
       "\n",
       "   current_value_million_usd risk_level liquidity  mgmt_expertise_required  \n",
       "0                     144.06     Medium    Medium                        1  \n",
       "1                      74.76     Medium      High                        1  \n",
       "2                      41.90        Low    Medium                        1  \n",
       "3                     387.26     Medium      High                        0  \n",
       "4                       7.73        Low    Medium                        1  "
      ]
     },
     "metadata": {},
     "output_type": "display_data"
    }
   ],
   "source": [
    "print()\n",
    "display(people_df.head())\n",
    "print()\n",
    "display(asset_df.head())"
   ]
  },
  {
   "cell_type": "markdown",
   "id": "697e71a7-2b2b-4e7e-8fec-639cebafdd29",
   "metadata": {},
   "source": [
    "## Exploratory Data Analysis "
   ]
  },
  {
   "cell_type": "code",
   "execution_count": 7,
   "id": "432fd1cf-2c8c-47c9-96cd-9d117d0e253a",
   "metadata": {},
   "outputs": [
    {
     "data": {
      "text/plain": [
       "(15, 10)"
      ]
     },
     "execution_count": 7,
     "metadata": {},
     "output_type": "execute_result"
    }
   ],
   "source": [
    "people_df.shape"
   ]
  },
  {
   "cell_type": "code",
   "execution_count": 8,
   "id": "d70a28db-f2e2-4a1f-9a2d-069eebe30a6e",
   "metadata": {},
   "outputs": [
    {
     "data": {
      "text/plain": [
       "(10, 8)"
      ]
     },
     "execution_count": 8,
     "metadata": {},
     "output_type": "execute_result"
    }
   ],
   "source": [
    "asset_df.shape"
   ]
  },
  {
   "cell_type": "code",
   "execution_count": 10,
   "id": "ae7ddcb1-9416-4cdd-b5a8-db274bacd0f5",
   "metadata": {},
   "outputs": [
    {
     "data": {
      "text/plain": [
       "person_id                   0\n",
       "name                        0\n",
       "group                       0\n",
       "age                         0\n",
       "country                     0\n",
       "financial_responsibility    0\n",
       "loyalty_score               0\n",
       "leadership_potential        0\n",
       "philanthropy_alignment      0\n",
       "legal_flags                 0\n",
       "dtype: int64"
      ]
     },
     "execution_count": 10,
     "metadata": {},
     "output_type": "execute_result"
    }
   ],
   "source": [
    "people_df.isnull().sum()"
   ]
  },
  {
   "cell_type": "code",
   "execution_count": 12,
   "id": "366c555c-fe3a-4f36-876d-c1c365c7091e",
   "metadata": {},
   "outputs": [
    {
     "data": {
      "text/plain": [
       "asset_id                     0\n",
       "asset_name                   0\n",
       "asset_type                   0\n",
       "region                       0\n",
       "current_value_million_usd    0\n",
       "risk_level                   0\n",
       "liquidity                    0\n",
       "mgmt_expertise_required      0\n",
       "dtype: int64"
      ]
     },
     "execution_count": 12,
     "metadata": {},
     "output_type": "execute_result"
    }
   ],
   "source": [
    "asset_df.isnull().sum()"
   ]
  },
  {
   "cell_type": "code",
   "execution_count": 13,
   "id": "f7ab12da-c712-497a-b3c2-9720872ff9b4",
   "metadata": {},
   "outputs": [
    {
     "data": {
      "text/plain": [
       "asset_id                     0\n",
       "asset_name                   0\n",
       "asset_type                   0\n",
       "region                       0\n",
       "current_value_million_usd    0\n",
       "risk_level                   0\n",
       "liquidity                    0\n",
       "mgmt_expertise_required      0\n",
       "dtype: int64"
      ]
     },
     "execution_count": 13,
     "metadata": {},
     "output_type": "execute_result"
    }
   ],
   "source": [
    "asset_df.isna().sum()"
   ]
  },
  {
   "cell_type": "code",
   "execution_count": 14,
   "id": "8f19265b-ecc6-452f-9cc0-74859820fb51",
   "metadata": {},
   "outputs": [
    {
     "name": "stdout",
     "output_type": "stream",
     "text": [
      "<class 'pandas.core.frame.DataFrame'>\n",
      "RangeIndex: 15 entries, 0 to 14\n",
      "Data columns (total 10 columns):\n",
      " #   Column                    Non-Null Count  Dtype \n",
      "---  ------                    --------------  ----- \n",
      " 0   person_id                 15 non-null     int64 \n",
      " 1   name                      15 non-null     object\n",
      " 2   group                     15 non-null     object\n",
      " 3   age                       15 non-null     int64 \n",
      " 4   country                   15 non-null     object\n",
      " 5   financial_responsibility  15 non-null     int64 \n",
      " 6   loyalty_score             15 non-null     int64 \n",
      " 7   leadership_potential      15 non-null     int64 \n",
      " 8   philanthropy_alignment    15 non-null     int64 \n",
      " 9   legal_flags               15 non-null     int64 \n",
      "dtypes: int64(7), object(3)\n",
      "memory usage: 1.3+ KB\n"
     ]
    }
   ],
   "source": [
    "people_df.info()"
   ]
  },
  {
   "cell_type": "code",
   "execution_count": 15,
   "id": "a3c7e3e0-9261-4e95-9e86-4ce5904126a9",
   "metadata": {},
   "outputs": [
    {
     "name": "stdout",
     "output_type": "stream",
     "text": [
      "<class 'pandas.core.frame.DataFrame'>\n",
      "RangeIndex: 10 entries, 0 to 9\n",
      "Data columns (total 8 columns):\n",
      " #   Column                     Non-Null Count  Dtype  \n",
      "---  ------                     --------------  -----  \n",
      " 0   asset_id                   10 non-null     int64  \n",
      " 1   asset_name                 10 non-null     object \n",
      " 2   asset_type                 10 non-null     object \n",
      " 3   region                     10 non-null     object \n",
      " 4   current_value_million_usd  10 non-null     float64\n",
      " 5   risk_level                 10 non-null     object \n",
      " 6   liquidity                  10 non-null     object \n",
      " 7   mgmt_expertise_required    10 non-null     int64  \n",
      "dtypes: float64(1), int64(2), object(5)\n",
      "memory usage: 772.0+ bytes\n"
     ]
    }
   ],
   "source": [
    "asset_df.info()"
   ]
  },
  {
   "cell_type": "code",
   "execution_count": 16,
   "id": "3f682897-e6f1-47e6-9710-2d58f2a77d9c",
   "metadata": {},
   "outputs": [
    {
     "data": {
      "text/plain": [
       "np.int64(0)"
      ]
     },
     "execution_count": 16,
     "metadata": {},
     "output_type": "execute_result"
    }
   ],
   "source": [
    "people_df.duplicated().sum()"
   ]
  },
  {
   "cell_type": "code",
   "execution_count": 17,
   "id": "65a0d356-b6ad-40ee-ac28-2cb327ff8c69",
   "metadata": {},
   "outputs": [
    {
     "data": {
      "text/plain": [
       "np.int64(0)"
      ]
     },
     "execution_count": 17,
     "metadata": {},
     "output_type": "execute_result"
    }
   ],
   "source": [
    "asset_df.duplicated().sum()"
   ]
  },
  {
   "cell_type": "code",
   "execution_count": 19,
   "id": "8bfb1491-12f8-4f47-ba5b-e28da685402d",
   "metadata": {},
   "outputs": [
    {
     "data": {
      "text/html": [
       "<div>\n",
       "<style scoped>\n",
       "    .dataframe tbody tr th:only-of-type {\n",
       "        vertical-align: middle;\n",
       "    }\n",
       "\n",
       "    .dataframe tbody tr th {\n",
       "        vertical-align: top;\n",
       "    }\n",
       "\n",
       "    .dataframe thead th {\n",
       "        text-align: right;\n",
       "    }\n",
       "</style>\n",
       "<table border=\"1\" class=\"dataframe\">\n",
       "  <thead>\n",
       "    <tr style=\"text-align: right;\">\n",
       "      <th></th>\n",
       "      <th>count</th>\n",
       "      <th>mean</th>\n",
       "      <th>std</th>\n",
       "      <th>min</th>\n",
       "      <th>25%</th>\n",
       "      <th>50%</th>\n",
       "      <th>75%</th>\n",
       "      <th>max</th>\n",
       "    </tr>\n",
       "  </thead>\n",
       "  <tbody>\n",
       "    <tr>\n",
       "      <th>person_id</th>\n",
       "      <td>15.0</td>\n",
       "      <td>8.000000</td>\n",
       "      <td>4.472136</td>\n",
       "      <td>1.0</td>\n",
       "      <td>4.5</td>\n",
       "      <td>8.0</td>\n",
       "      <td>11.5</td>\n",
       "      <td>15.0</td>\n",
       "    </tr>\n",
       "    <tr>\n",
       "      <th>age</th>\n",
       "      <td>15.0</td>\n",
       "      <td>52.533333</td>\n",
       "      <td>21.266562</td>\n",
       "      <td>19.0</td>\n",
       "      <td>38.5</td>\n",
       "      <td>56.0</td>\n",
       "      <td>71.5</td>\n",
       "      <td>77.0</td>\n",
       "    </tr>\n",
       "    <tr>\n",
       "      <th>financial_responsibility</th>\n",
       "      <td>15.0</td>\n",
       "      <td>68.333333</td>\n",
       "      <td>15.069679</td>\n",
       "      <td>45.0</td>\n",
       "      <td>57.5</td>\n",
       "      <td>63.0</td>\n",
       "      <td>84.5</td>\n",
       "      <td>91.0</td>\n",
       "    </tr>\n",
       "    <tr>\n",
       "      <th>loyalty_score</th>\n",
       "      <td>15.0</td>\n",
       "      <td>73.600000</td>\n",
       "      <td>17.070442</td>\n",
       "      <td>48.0</td>\n",
       "      <td>58.0</td>\n",
       "      <td>72.0</td>\n",
       "      <td>87.5</td>\n",
       "      <td>99.0</td>\n",
       "    </tr>\n",
       "    <tr>\n",
       "      <th>leadership_potential</th>\n",
       "      <td>15.0</td>\n",
       "      <td>70.333333</td>\n",
       "      <td>21.750753</td>\n",
       "      <td>33.0</td>\n",
       "      <td>56.0</td>\n",
       "      <td>68.0</td>\n",
       "      <td>89.5</td>\n",
       "      <td>100.0</td>\n",
       "    </tr>\n",
       "    <tr>\n",
       "      <th>philanthropy_alignment</th>\n",
       "      <td>15.0</td>\n",
       "      <td>67.400000</td>\n",
       "      <td>20.109699</td>\n",
       "      <td>32.0</td>\n",
       "      <td>52.0</td>\n",
       "      <td>71.0</td>\n",
       "      <td>82.5</td>\n",
       "      <td>91.0</td>\n",
       "    </tr>\n",
       "    <tr>\n",
       "      <th>legal_flags</th>\n",
       "      <td>15.0</td>\n",
       "      <td>0.200000</td>\n",
       "      <td>0.414039</td>\n",
       "      <td>0.0</td>\n",
       "      <td>0.0</td>\n",
       "      <td>0.0</td>\n",
       "      <td>0.0</td>\n",
       "      <td>1.0</td>\n",
       "    </tr>\n",
       "  </tbody>\n",
       "</table>\n",
       "</div>"
      ],
      "text/plain": [
       "                          count       mean        std   min   25%   50%   75%  \\\n",
       "person_id                  15.0   8.000000   4.472136   1.0   4.5   8.0  11.5   \n",
       "age                        15.0  52.533333  21.266562  19.0  38.5  56.0  71.5   \n",
       "financial_responsibility   15.0  68.333333  15.069679  45.0  57.5  63.0  84.5   \n",
       "loyalty_score              15.0  73.600000  17.070442  48.0  58.0  72.0  87.5   \n",
       "leadership_potential       15.0  70.333333  21.750753  33.0  56.0  68.0  89.5   \n",
       "philanthropy_alignment     15.0  67.400000  20.109699  32.0  52.0  71.0  82.5   \n",
       "legal_flags                15.0   0.200000   0.414039   0.0   0.0   0.0   0.0   \n",
       "\n",
       "                            max  \n",
       "person_id                  15.0  \n",
       "age                        77.0  \n",
       "financial_responsibility   91.0  \n",
       "loyalty_score              99.0  \n",
       "leadership_potential      100.0  \n",
       "philanthropy_alignment     91.0  \n",
       "legal_flags                 1.0  "
      ]
     },
     "execution_count": 19,
     "metadata": {},
     "output_type": "execute_result"
    }
   ],
   "source": [
    "# Summary statistics \n",
    "people_df.describe().T"
   ]
  },
  {
   "cell_type": "code",
   "execution_count": 22,
   "id": "53fa0476-96a0-4431-b4fd-213ea6c84803",
   "metadata": {},
   "outputs": [
    {
     "data": {
      "text/html": [
       "<div>\n",
       "<style scoped>\n",
       "    .dataframe tbody tr th:only-of-type {\n",
       "        vertical-align: middle;\n",
       "    }\n",
       "\n",
       "    .dataframe tbody tr th {\n",
       "        vertical-align: top;\n",
       "    }\n",
       "\n",
       "    .dataframe thead th {\n",
       "        text-align: right;\n",
       "    }\n",
       "</style>\n",
       "<table border=\"1\" class=\"dataframe\">\n",
       "  <thead>\n",
       "    <tr style=\"text-align: right;\">\n",
       "      <th></th>\n",
       "      <th>count</th>\n",
       "      <th>mean</th>\n",
       "      <th>std</th>\n",
       "      <th>min</th>\n",
       "      <th>25%</th>\n",
       "      <th>50%</th>\n",
       "      <th>75%</th>\n",
       "      <th>max</th>\n",
       "    </tr>\n",
       "  </thead>\n",
       "  <tbody>\n",
       "    <tr>\n",
       "      <th>asset_id</th>\n",
       "      <td>10.0</td>\n",
       "      <td>5.500</td>\n",
       "      <td>3.027650</td>\n",
       "      <td>1.00</td>\n",
       "      <td>3.250</td>\n",
       "      <td>5.500</td>\n",
       "      <td>7.7500</td>\n",
       "      <td>10.00</td>\n",
       "    </tr>\n",
       "    <tr>\n",
       "      <th>current_value_million_usd</th>\n",
       "      <td>10.0</td>\n",
       "      <td>218.085</td>\n",
       "      <td>158.699176</td>\n",
       "      <td>7.73</td>\n",
       "      <td>92.085</td>\n",
       "      <td>175.615</td>\n",
       "      <td>378.8075</td>\n",
       "      <td>432.24</td>\n",
       "    </tr>\n",
       "    <tr>\n",
       "      <th>mgmt_expertise_required</th>\n",
       "      <td>10.0</td>\n",
       "      <td>0.600</td>\n",
       "      <td>0.516398</td>\n",
       "      <td>0.00</td>\n",
       "      <td>0.000</td>\n",
       "      <td>1.000</td>\n",
       "      <td>1.0000</td>\n",
       "      <td>1.00</td>\n",
       "    </tr>\n",
       "  </tbody>\n",
       "</table>\n",
       "</div>"
      ],
      "text/plain": [
       "                           count     mean         std   min     25%      50%  \\\n",
       "asset_id                    10.0    5.500    3.027650  1.00   3.250    5.500   \n",
       "current_value_million_usd   10.0  218.085  158.699176  7.73  92.085  175.615   \n",
       "mgmt_expertise_required     10.0    0.600    0.516398  0.00   0.000    1.000   \n",
       "\n",
       "                                75%     max  \n",
       "asset_id                     7.7500   10.00  \n",
       "current_value_million_usd  378.8075  432.24  \n",
       "mgmt_expertise_required      1.0000    1.00  "
      ]
     },
     "execution_count": 22,
     "metadata": {},
     "output_type": "execute_result"
    }
   ],
   "source": [
    "asset_df.describe().T"
   ]
  },
  {
   "cell_type": "markdown",
   "id": "0dbadca9-2f38-4f3a-a227-d7f78e01efef",
   "metadata": {},
   "source": [
    "From the EDA above, our data seems fine (no missing values or wrong datatypes). We can now go ahead and visualize the data to derive more insights "
   ]
  },
  {
   "cell_type": "markdown",
   "id": "203a2559-e1f4-4b88-9ae8-7f59982b2e39",
   "metadata": {},
   "source": [
    "## Visualization "
   ]
  },
  {
   "cell_type": "code",
   "execution_count": 26,
   "id": "1501993e-03ef-466b-8668-461d9b2ec264",
   "metadata": {},
   "outputs": [
    {
     "data": {
      "image/png": "[encoded data removed]",
      "text/plain": [
       "<Figure size 700x500 with 1 Axes>"
      ]
     },
     "metadata": {},
     "output_type": "display_data"
    }
   ],
   "source": [
    "# A look at 'Age' distribution \n",
    "plt.figure(figsize=(7, 5))\n",
    "plt.hist(people_df['age'], bins=7, edgecolor='purple')\n",
    "plt.title('Age Distribution')\n",
    "plt.ylabel('Count')\n",
    "plt.xlabel('Age')\n",
    "plt.show()"
   ]
  },
  {
   "cell_type": "markdown",
   "id": "7677364d-19af-449f-8853-b0eb1babc399",
   "metadata": {},
   "source": [
    "## People by Group "
   ]
  },
  {
   "cell_type": "code",
   "execution_count": 29,
   "id": "356ff9dd-63a3-4791-a264-437133af4df3",
   "metadata": {},
   "outputs": [
    {
     "data": {
      "text/plain": [
       "group\n",
       "nuclear_family     8\n",
       "extended_family    4\n",
       "employee           3\n",
       "Name: count, dtype: int64"
      ]
     },
     "execution_count": 29,
     "metadata": {},
     "output_type": "execute_result"
    }
   ],
   "source": [
    "people_df['group'].value_counts()"
   ]
  },
  {
   "cell_type": "code",
   "execution_count": 30,
   "id": "940a6d73-1835-45e0-a1f6-5a5b42260fe5",
   "metadata": {},
   "outputs": [
    {
     "data": {
      "image/png": "[encoded data removed]",
      "text/plain": [
       "<Figure size 640x480 with 1 Axes>"
      ]
     },
     "metadata": {},
     "output_type": "display_data"
    }
   ],
   "source": [
    "sns.countplot(x='group', data=people_df)\n",
    "plt.show()"
   ]
  },
  {
   "cell_type": "code",
   "execution_count": 31,
   "id": "ea4ef55d-8585-49f5-8b06-d8714e6c066d",
   "metadata": {},
   "outputs": [
    {
     "data": {
      "text/plain": [
       "Index(['UK', 'India', 'Australia', 'South Africa', 'USA', 'Brazil'], dtype='object', name='country')"
      ]
     },
     "execution_count": 31,
     "metadata": {},
     "output_type": "execute_result"
    }
   ],
   "source": [
    "# Let's group the heirs by country \n",
    "people_df['country'].value_counts().index"
   ]
  },
  {
   "cell_type": "code",
   "execution_count": 32,
   "id": "3992e6a6-ea65-4ac1-8264-c5a7f8341d99",
   "metadata": {},
   "outputs": [
    {
     "data": {
      "text/plain": [
       "<Axes: xlabel='country', ylabel='count'>"
      ]
     },
     "execution_count": 32,
     "metadata": {},
     "output_type": "execute_result"
    },
    {
     "data": {
      "image/png": "[encoded data removed]",
      "text/plain": [
       "<Figure size 640x480 with 1 Axes>"
      ]
     },
     "metadata": {},
     "output_type": "display_data"
    }
   ],
   "source": [
    "order = people_df['country'].value_counts().index\n",
    "sns.countplot(x= 'country', data=people_df, order=order)"
   ]
  },
  {
   "cell_type": "code",
   "execution_count": 34,
   "id": "e9e02fb9-8355-41ce-8587-03d5b7b7e6d9",
   "metadata": {},
   "outputs": [
    {
     "data": {
      "text/html": [
       "<div>\n",
       "<style scoped>\n",
       "    .dataframe tbody tr th:only-of-type {\n",
       "        vertical-align: middle;\n",
       "    }\n",
       "\n",
       "    .dataframe tbody tr th {\n",
       "        vertical-align: top;\n",
       "    }\n",
       "\n",
       "    .dataframe thead th {\n",
       "        text-align: right;\n",
       "    }\n",
       "</style>\n",
       "<table border=\"1\" class=\"dataframe\">\n",
       "  <thead>\n",
       "    <tr style=\"text-align: right;\">\n",
       "      <th></th>\n",
       "      <th>financial_responsibility</th>\n",
       "      <th>loyalty_score</th>\n",
       "      <th>leadership_potential</th>\n",
       "      <th>philanthropy_alignment</th>\n",
       "    </tr>\n",
       "  </thead>\n",
       "  <tbody>\n",
       "    <tr>\n",
       "      <th>0</th>\n",
       "      <td>91</td>\n",
       "      <td>68</td>\n",
       "      <td>44</td>\n",
       "      <td>90</td>\n",
       "    </tr>\n",
       "    <tr>\n",
       "      <th>1</th>\n",
       "      <td>58</td>\n",
       "      <td>62</td>\n",
       "      <td>53</td>\n",
       "      <td>32</td>\n",
       "    </tr>\n",
       "    <tr>\n",
       "      <th>2</th>\n",
       "      <td>63</td>\n",
       "      <td>83</td>\n",
       "      <td>59</td>\n",
       "      <td>67</td>\n",
       "    </tr>\n",
       "    <tr>\n",
       "      <th>3</th>\n",
       "      <td>60</td>\n",
       "      <td>72</td>\n",
       "      <td>87</td>\n",
       "      <td>51</td>\n",
       "    </tr>\n",
       "    <tr>\n",
       "      <th>4</th>\n",
       "      <td>88</td>\n",
       "      <td>66</td>\n",
       "      <td>88</td>\n",
       "      <td>71</td>\n",
       "    </tr>\n",
       "    <tr>\n",
       "      <th>5</th>\n",
       "      <td>55</td>\n",
       "      <td>54</td>\n",
       "      <td>91</td>\n",
       "      <td>91</td>\n",
       "    </tr>\n",
       "    <tr>\n",
       "      <th>6</th>\n",
       "      <td>83</td>\n",
       "      <td>94</td>\n",
       "      <td>93</td>\n",
       "      <td>32</td>\n",
       "    </tr>\n",
       "    <tr>\n",
       "      <th>7</th>\n",
       "      <td>60</td>\n",
       "      <td>48</td>\n",
       "      <td>68</td>\n",
       "      <td>47</td>\n",
       "    </tr>\n",
       "    <tr>\n",
       "      <th>8</th>\n",
       "      <td>53</td>\n",
       "      <td>89</td>\n",
       "      <td>38</td>\n",
       "      <td>82</td>\n",
       "    </tr>\n",
       "    <tr>\n",
       "      <th>9</th>\n",
       "      <td>86</td>\n",
       "      <td>99</td>\n",
       "      <td>100</td>\n",
       "      <td>73</td>\n",
       "    </tr>\n",
       "    <tr>\n",
       "      <th>10</th>\n",
       "      <td>74</td>\n",
       "      <td>53</td>\n",
       "      <td>65</td>\n",
       "      <td>79</td>\n",
       "    </tr>\n",
       "    <tr>\n",
       "      <th>11</th>\n",
       "      <td>45</td>\n",
       "      <td>93</td>\n",
       "      <td>33</td>\n",
       "      <td>83</td>\n",
       "    </tr>\n",
       "    <tr>\n",
       "      <th>12</th>\n",
       "      <td>65</td>\n",
       "      <td>83</td>\n",
       "      <td>63</td>\n",
       "      <td>91</td>\n",
       "    </tr>\n",
       "    <tr>\n",
       "      <th>13</th>\n",
       "      <td>87</td>\n",
       "      <td>54</td>\n",
       "      <td>91</td>\n",
       "      <td>69</td>\n",
       "    </tr>\n",
       "    <tr>\n",
       "      <th>14</th>\n",
       "      <td>57</td>\n",
       "      <td>86</td>\n",
       "      <td>82</td>\n",
       "      <td>53</td>\n",
       "    </tr>\n",
       "  </tbody>\n",
       "</table>\n",
       "</div>"
      ],
      "text/plain": [
       "    financial_responsibility  loyalty_score  leadership_potential  \\\n",
       "0                         91             68                    44   \n",
       "1                         58             62                    53   \n",
       "2                         63             83                    59   \n",
       "3                         60             72                    87   \n",
       "4                         88             66                    88   \n",
       "5                         55             54                    91   \n",
       "6                         83             94                    93   \n",
       "7                         60             48                    68   \n",
       "8                         53             89                    38   \n",
       "9                         86             99                   100   \n",
       "10                        74             53                    65   \n",
       "11                        45             93                    33   \n",
       "12                        65             83                    63   \n",
       "13                        87             54                    91   \n",
       "14                        57             86                    82   \n",
       "\n",
       "    philanthropy_alignment  \n",
       "0                       90  \n",
       "1                       32  \n",
       "2                       67  \n",
       "3                       51  \n",
       "4                       71  \n",
       "5                       91  \n",
       "6                       32  \n",
       "7                       47  \n",
       "8                       82  \n",
       "9                       73  \n",
       "10                      79  \n",
       "11                      83  \n",
       "12                      91  \n",
       "13                      69  \n",
       "14                      53  "
      ]
     },
     "execution_count": 34,
     "metadata": {},
     "output_type": "execute_result"
    }
   ],
   "source": [
    "people_df[['financial_responsibility', 'loyalty_score', 'leadership_potential', 'philanthropy_alignment']]"
   ]
  },
  {
   "cell_type": "code",
   "execution_count": 37,
   "id": "9c434f14-0f88-4cb2-ac22-47b604b6bc7b",
   "metadata": {},
   "outputs": [
    {
     "data": {
      "text/html": [
       "<div>\n",
       "<style scoped>\n",
       "    .dataframe tbody tr th:only-of-type {\n",
       "        vertical-align: middle;\n",
       "    }\n",
       "\n",
       "    .dataframe tbody tr th {\n",
       "        vertical-align: top;\n",
       "    }\n",
       "\n",
       "    .dataframe thead th {\n",
       "        text-align: right;\n",
       "    }\n",
       "</style>\n",
       "<table border=\"1\" class=\"dataframe\">\n",
       "  <thead>\n",
       "    <tr style=\"text-align: right;\">\n",
       "      <th></th>\n",
       "      <th>financial_responsibility</th>\n",
       "      <th>loyalty_score</th>\n",
       "      <th>leadership_potential</th>\n",
       "      <th>philanthropy_alignment</th>\n",
       "    </tr>\n",
       "  </thead>\n",
       "  <tbody>\n",
       "    <tr>\n",
       "      <th>financial_responsibility</th>\n",
       "      <td>1.000000</td>\n",
       "      <td>-0.087187</td>\n",
       "      <td>0.450292</td>\n",
       "      <td>0.027106</td>\n",
       "    </tr>\n",
       "    <tr>\n",
       "      <th>loyalty_score</th>\n",
       "      <td>-0.087187</td>\n",
       "      <td>1.000000</td>\n",
       "      <td>-0.094265</td>\n",
       "      <td>0.012360</td>\n",
       "    </tr>\n",
       "    <tr>\n",
       "      <th>leadership_potential</th>\n",
       "      <td>0.450292</td>\n",
       "      <td>-0.094265</td>\n",
       "      <td>1.000000</td>\n",
       "      <td>-0.279573</td>\n",
       "    </tr>\n",
       "    <tr>\n",
       "      <th>philanthropy_alignment</th>\n",
       "      <td>0.027106</td>\n",
       "      <td>0.012360</td>\n",
       "      <td>-0.279573</td>\n",
       "      <td>1.000000</td>\n",
       "    </tr>\n",
       "  </tbody>\n",
       "</table>\n",
       "</div>"
      ],
      "text/plain": [
       "                          financial_responsibility  loyalty_score  \\\n",
       "financial_responsibility                  1.000000      -0.087187   \n",
       "loyalty_score                            -0.087187       1.000000   \n",
       "leadership_potential                      0.450292      -0.094265   \n",
       "philanthropy_alignment                    0.027106       0.012360   \n",
       "\n",
       "                          leadership_potential  philanthropy_alignment  \n",
       "financial_responsibility              0.450292                0.027106  \n",
       "loyalty_score                        -0.094265                0.012360  \n",
       "leadership_potential                  1.000000               -0.279573  \n",
       "philanthropy_alignment               -0.279573                1.000000  "
      ]
     },
     "execution_count": 37,
     "metadata": {},
     "output_type": "execute_result"
    }
   ],
   "source": [
    "# Calculating the correlation between the different columns \n",
    "corr_columns = ['financial_responsibility', 'loyalty_score', 'leadership_potential', 'philanthropy_alignment']\n",
    "corr_df =people_df[corr_columns].corr()\n",
    "corr_df"
   ]
  },
  {
   "cell_type": "code",
   "execution_count": 38,
   "id": "78dd8c2c-6603-4554-adfb-0eea0d4be24d",
   "metadata": {},
   "outputs": [
    {
     "data": {
      "text/plain": [
       "<Axes: >"
      ]
     },
     "execution_count": 38,
     "metadata": {},
     "output_type": "execute_result"
    },
    {
     "data": {
      "image/png": "[encoded data removed]",
      "text/plain": [
       "<Figure size 640x480 with 2 Axes>"
      ]
     },
     "metadata": {},
     "output_type": "display_data"
    }
   ],
   "source": [
    "sns.heatmap(corr_df, annot=True)"
   ]
  },
  {
   "cell_type": "markdown",
   "id": "3e96178d-0f75-4373-ad0c-5049b77d031f",
   "metadata": {},
   "source": [
    "Is there a relationship between age and financial responsibility?"
   ]
  },
  {
   "cell_type": "code",
   "execution_count": 39,
   "id": "a6ba5188-bdea-4df3-8043-65a83f8a9dd7",
   "metadata": {},
   "outputs": [
    {
     "data": {
      "text/plain": [
       "Text(0, 0.5, 'F/R')"
      ]
     },
     "execution_count": 39,
     "metadata": {},
     "output_type": "execute_result"
    },
    {
     "data": {
      "image/png": "[encoded data removed]",
      "text/plain": [
       "<Figure size 640x480 with 1 Axes>"
      ]
     },
     "metadata": {},
     "output_type": "display_data"
    }
   ],
   "source": [
    "plt.scatter(x='age', y='financial_responsibility', data=people_df)\n",
    "plt.xlabel('Age')\n",
    "plt.ylabel('F/R')"
   ]
  },
  {
   "cell_type": "markdown",
   "id": "037bf737-fe7e-493b-9c98-937a9d129c96",
   "metadata": {},
   "source": [
    "## Assets Data "
   ]
  },
  {
   "cell_type": "code",
   "execution_count": 41,
   "id": "4950890e-8a5f-4f6b-bbe6-fba28779afdb",
   "metadata": {},
   "outputs": [
    {
     "data": {
      "text/html": [
       "<div>\n",
       "<style scoped>\n",
       "    .dataframe tbody tr th:only-of-type {\n",
       "        vertical-align: middle;\n",
       "    }\n",
       "\n",
       "    .dataframe tbody tr th {\n",
       "        vertical-align: top;\n",
       "    }\n",
       "\n",
       "    .dataframe thead th {\n",
       "        text-align: right;\n",
       "    }\n",
       "</style>\n",
       "<table border=\"1\" class=\"dataframe\">\n",
       "  <thead>\n",
       "    <tr style=\"text-align: right;\">\n",
       "      <th></th>\n",
       "      <th>asset_id</th>\n",
       "      <th>asset_name</th>\n",
       "      <th>asset_type</th>\n",
       "      <th>region</th>\n",
       "      <th>current_value_million_usd</th>\n",
       "      <th>risk_level</th>\n",
       "      <th>liquidity</th>\n",
       "      <th>mgmt_expertise_required</th>\n",
       "    </tr>\n",
       "  </thead>\n",
       "  <tbody>\n",
       "    <tr>\n",
       "      <th>0</th>\n",
       "      <td>1</td>\n",
       "      <td>Global Tech Stocks</td>\n",
       "      <td>stocks</td>\n",
       "      <td>Asia</td>\n",
       "      <td>144.06</td>\n",
       "      <td>Medium</td>\n",
       "      <td>Medium</td>\n",
       "      <td>1</td>\n",
       "    </tr>\n",
       "    <tr>\n",
       "      <th>1</th>\n",
       "      <td>2</td>\n",
       "      <td>Paris Luxury Hotel</td>\n",
       "      <td>stocks</td>\n",
       "      <td>Europe</td>\n",
       "      <td>74.76</td>\n",
       "      <td>Medium</td>\n",
       "      <td>High</td>\n",
       "      <td>1</td>\n",
       "    </tr>\n",
       "    <tr>\n",
       "      <th>2</th>\n",
       "      <td>3</td>\n",
       "      <td>Kenyan Tea Plantation</td>\n",
       "      <td>cash</td>\n",
       "      <td>Asia</td>\n",
       "      <td>41.90</td>\n",
       "      <td>Low</td>\n",
       "      <td>Medium</td>\n",
       "      <td>1</td>\n",
       "    </tr>\n",
       "    <tr>\n",
       "      <th>3</th>\n",
       "      <td>4</td>\n",
       "      <td>Silicon Valley Startup Shares</td>\n",
       "      <td>real_estate</td>\n",
       "      <td>Latin America</td>\n",
       "      <td>387.26</td>\n",
       "      <td>Medium</td>\n",
       "      <td>High</td>\n",
       "      <td>0</td>\n",
       "    </tr>\n",
       "  </tbody>\n",
       "</table>\n",
       "</div>"
      ],
      "text/plain": [
       "   asset_id                     asset_name   asset_type         region  \\\n",
       "0         1             Global Tech Stocks       stocks           Asia   \n",
       "1         2             Paris Luxury Hotel       stocks         Europe   \n",
       "2         3          Kenyan Tea Plantation         cash           Asia   \n",
       "3         4  Silicon Valley Startup Shares  real_estate  Latin America   \n",
       "\n",
       "   current_value_million_usd risk_level liquidity  mgmt_expertise_required  \n",
       "0                     144.06     Medium    Medium                        1  \n",
       "1                      74.76     Medium      High                        1  \n",
       "2                      41.90        Low    Medium                        1  \n",
       "3                     387.26     Medium      High                        0  "
      ]
     },
     "execution_count": 41,
     "metadata": {},
     "output_type": "execute_result"
    }
   ],
   "source": [
    "asset_df.head(4)"
   ]
  },
  {
   "cell_type": "code",
   "execution_count": 43,
   "id": "43c59eb1-37a0-4195-b534-3e4549282c0e",
   "metadata": {},
   "outputs": [
    {
     "data": {
      "text/plain": [
       "asset_type\n",
       "real_estate       819.50\n",
       "cash              579.23\n",
       "art_collection    386.78\n",
       "stocks            218.82\n",
       "business_unit     176.52\n",
       "Name: current_value_million_usd, dtype: float64"
      ]
     },
     "execution_count": 43,
     "metadata": {},
     "output_type": "execute_result"
    }
   ],
   "source": [
    "asset_type =asset_df.groupby(['asset_type'])['current_value_million_usd'].sum().sort_values(ascending=False)\n",
    "asset_type"
   ]
  },
  {
   "cell_type": "code",
   "execution_count": 44,
   "id": "ec3f47fb-407f-4f4c-8cfc-2832d8147841",
   "metadata": {},
   "outputs": [
    {
     "data": {
      "text/plain": [
       "Index(['real_estate', 'cash', 'art_collection', 'stocks', 'business_unit'], dtype='object', name='asset_type')"
      ]
     },
     "execution_count": 44,
     "metadata": {},
     "output_type": "execute_result"
    }
   ],
   "source": [
    "asset_type.index"
   ]
  },
  {
   "cell_type": "code",
   "execution_count": 45,
   "id": "ef45e36d-e38f-446c-8a98-d89aeb428a6a",
   "metadata": {},
   "outputs": [
    {
     "data": {
      "text/plain": [
       "array([819.5 , 579.23, 386.78, 218.82, 176.52])"
      ]
     },
     "execution_count": 45,
     "metadata": {},
     "output_type": "execute_result"
    }
   ],
   "source": [
    "asset_type.values"
   ]
  },
  {
   "cell_type": "code",
   "execution_count": 47,
   "id": "04de9e7d-7f1d-4a23-bf98-c8c1e8592ba3",
   "metadata": {},
   "outputs": [
    {
     "data": {
      "text/plain": [
       "<function matplotlib.pyplot.show(close=None, block=None)>"
      ]
     },
     "execution_count": 47,
     "metadata": {},
     "output_type": "execute_result"
    },
    {
     "data": {
      "image/png": "[encoded data removed]",
      "text/plain": [
       "<Figure size 640x480 with 1 Axes>"
      ]
     },
     "metadata": {},
     "output_type": "display_data"
    }
   ],
   "source": [
    "sns.barplot(x=asset_type.index, y=asset_type.values)\n",
    "plt.show"
   ]
  },
  {
   "cell_type": "code",
   "execution_count": 48,
   "id": "46fa72b9-004d-44b2-acd9-e238ef16f62e",
   "metadata": {},
   "outputs": [
    {
     "data": {
      "text/html": [
       "<div>\n",
       "<style scoped>\n",
       "    .dataframe tbody tr th:only-of-type {\n",
       "        vertical-align: middle;\n",
       "    }\n",
       "\n",
       "    .dataframe tbody tr th {\n",
       "        vertical-align: top;\n",
       "    }\n",
       "\n",
       "    .dataframe thead th {\n",
       "        text-align: right;\n",
       "    }\n",
       "</style>\n",
       "<table border=\"1\" class=\"dataframe\">\n",
       "  <thead>\n",
       "    <tr style=\"text-align: right;\">\n",
       "      <th></th>\n",
       "      <th>name</th>\n",
       "      <th>group</th>\n",
       "    </tr>\n",
       "  </thead>\n",
       "  <tbody>\n",
       "    <tr>\n",
       "      <th>1</th>\n",
       "      <td>Marcus Langley</td>\n",
       "      <td>nuclear_family</td>\n",
       "    </tr>\n",
       "    <tr>\n",
       "      <th>2</th>\n",
       "      <td>Rebecca Ortiz</td>\n",
       "      <td>nuclear_family</td>\n",
       "    </tr>\n",
       "    <tr>\n",
       "      <th>3</th>\n",
       "      <td>Daniel Smith</td>\n",
       "      <td>nuclear_family</td>\n",
       "    </tr>\n",
       "    <tr>\n",
       "      <th>5</th>\n",
       "      <td>Li Wei</td>\n",
       "      <td>nuclear_family</td>\n",
       "    </tr>\n",
       "    <tr>\n",
       "      <th>7</th>\n",
       "      <td>Carlos Mendes</td>\n",
       "      <td>nuclear_family</td>\n",
       "    </tr>\n",
       "    <tr>\n",
       "      <th>8</th>\n",
       "      <td>Fatima Zahra</td>\n",
       "      <td>nuclear_family</td>\n",
       "    </tr>\n",
       "    <tr>\n",
       "      <th>10</th>\n",
       "      <td>Sophia Brown</td>\n",
       "      <td>nuclear_family</td>\n",
       "    </tr>\n",
       "    <tr>\n",
       "      <th>11</th>\n",
       "      <td>Ahmed Khan</td>\n",
       "      <td>nuclear_family</td>\n",
       "    </tr>\n",
       "  </tbody>\n",
       "</table>\n",
       "</div>"
      ],
      "text/plain": [
       "              name           group\n",
       "1   Marcus Langley  nuclear_family\n",
       "2    Rebecca Ortiz  nuclear_family\n",
       "3     Daniel Smith  nuclear_family\n",
       "5           Li Wei  nuclear_family\n",
       "7    Carlos Mendes  nuclear_family\n",
       "8     Fatima Zahra  nuclear_family\n",
       "10    Sophia Brown  nuclear_family\n",
       "11      Ahmed Khan  nuclear_family"
      ]
     },
     "execution_count": 48,
     "metadata": {},
     "output_type": "execute_result"
    }
   ],
   "source": [
    "people_df[people_df['group']== 'nuclear_family'][['name', 'group']]"
   ]
  },
  {
   "cell_type": "markdown",
   "id": "d421434d-fb81-4496-a551-623a1b6fdba7",
   "metadata": {},
   "source": [
    "The billionare set certain standards which the heir must achieve to inherit his empire as listed below\n",
    "- age >= 60\n",
    "- financial_responsibility >= 80\n",
    "- loyalty_score > 70\n",
    "- leadership_potential >= 70\n",
    "- philanthropy_alignment\n",
    "- legals flags == 0"
   ]
  },
  {
   "cell_type": "code",
   "execution_count": 52,
   "id": "501e57eb-4c84-4604-97f0-84ab098372a9",
   "metadata": {},
   "outputs": [
    {
     "data": {
      "text/html": [
       "<div>\n",
       "<style scoped>\n",
       "    .dataframe tbody tr th:only-of-type {\n",
       "        vertical-align: middle;\n",
       "    }\n",
       "\n",
       "    .dataframe tbody tr th {\n",
       "        vertical-align: top;\n",
       "    }\n",
       "\n",
       "    .dataframe thead th {\n",
       "        text-align: right;\n",
       "    }\n",
       "</style>\n",
       "<table border=\"1\" class=\"dataframe\">\n",
       "  <thead>\n",
       "    <tr style=\"text-align: right;\">\n",
       "      <th></th>\n",
       "      <th>person_id</th>\n",
       "      <th>name</th>\n",
       "      <th>group</th>\n",
       "      <th>age</th>\n",
       "      <th>country</th>\n",
       "      <th>financial_responsibility</th>\n",
       "      <th>loyalty_score</th>\n",
       "      <th>leadership_potential</th>\n",
       "      <th>philanthropy_alignment</th>\n",
       "      <th>legal_flags</th>\n",
       "    </tr>\n",
       "  </thead>\n",
       "  <tbody>\n",
       "    <tr>\n",
       "      <th>4</th>\n",
       "      <td>5</td>\n",
       "      <td>Priya Patel</td>\n",
       "      <td>employee</td>\n",
       "      <td>42</td>\n",
       "      <td>South Africa</td>\n",
       "      <td>88</td>\n",
       "      <td>66</td>\n",
       "      <td>88</td>\n",
       "      <td>71</td>\n",
       "      <td>0</td>\n",
       "    </tr>\n",
       "    <tr>\n",
       "      <th>9</th>\n",
       "      <td>10</td>\n",
       "      <td>John Doe</td>\n",
       "      <td>employee</td>\n",
       "      <td>45</td>\n",
       "      <td>Australia</td>\n",
       "      <td>86</td>\n",
       "      <td>99</td>\n",
       "      <td>100</td>\n",
       "      <td>73</td>\n",
       "      <td>0</td>\n",
       "    </tr>\n",
       "  </tbody>\n",
       "</table>\n",
       "</div>"
      ],
      "text/plain": [
       "   person_id         name     group  age       country  \\\n",
       "4          5  Priya Patel  employee   42  South Africa   \n",
       "9         10     John Doe  employee   45     Australia   \n",
       "\n",
       "   financial_responsibility  loyalty_score  leadership_potential  \\\n",
       "4                        88             66                    88   \n",
       "9                        86             99                   100   \n",
       "\n",
       "   philanthropy_alignment  legal_flags  \n",
       "4                      71            0  \n",
       "9                      73            0  "
      ]
     },
     "execution_count": 52,
     "metadata": {},
     "output_type": "execute_result"
    }
   ],
   "source": [
    "people_df[\n",
    "    (people_df['age'] >= 40) &\n",
    "    (people_df['financial_responsibility'] >= 60) &\n",
    "    (people_df['loyalty_score'] >= 60) &\n",
    "    (people_df['leadership_potential'] >= 60) &\n",
    "    (people_df['philanthropy_alignment'] >= 60) &\n",
    "    (people_df['legal_flags'] == 0)]"
   ]
  },
  {
   "cell_type": "code",
   "execution_count": null,
   "id": "a14e103f-30c6-44c5-8cea-c7966b4ce339",
   "metadata": {},
   "outputs": [],
   "source": []
  }
 ],
 "metadata": {
  "kernelspec": {
   "display_name": "Python 3 (ipykernel)",
   "language": "python",
   "name": "python3"
  },
  "language_info": {
   "codemirror_mode": {
    "name": "ipython",
    "version": 3
   },
   "file_extension": ".py",
   "mimetype": "text/x-python",
   "name": "python",
   "nbconvert_exporter": "python",
   "pygments_lexer": "ipython3",
   "version": "3.13.2"
  }
 },
 "nbformat": 4,
 "nbformat_minor": 5
}
